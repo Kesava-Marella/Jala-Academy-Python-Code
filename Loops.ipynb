{
 "cells": [
  {
   "cell_type": "code",
   "execution_count": 1,
   "id": "f7d379f4",
   "metadata": {},
   "outputs": [
    {
     "name": "stdout",
     "output_type": "stream",
     "text": [
      "Bright IT Career\n",
      "Bright IT Career\n",
      "Bright IT Career\n",
      "Bright IT Career\n",
      "Bright IT Career\n",
      "Bright IT Career\n",
      "Bright IT Career\n",
      "Bright IT Career\n",
      "Bright IT Career\n",
      "Bright IT Career\n"
     ]
    }
   ],
   "source": [
    "data = \"Bright IT Career\"\n",
    "for i in range(10):\n",
    "    print(data)"
   ]
  },
  {
   "cell_type": "code",
   "execution_count": 2,
   "id": "3847b961",
   "metadata": {},
   "outputs": [
    {
     "name": "stdout",
     "output_type": "stream",
     "text": [
      "1\n",
      "2\n",
      "3\n",
      "4\n",
      "5\n",
      "6\n",
      "7\n",
      "8\n",
      "9\n",
      "10\n",
      "11\n",
      "12\n",
      "13\n",
      "14\n",
      "15\n",
      "16\n",
      "17\n",
      "18\n",
      "19\n",
      "20\n"
     ]
    }
   ],
   "source": [
    "num = 1\n",
    "while(num<=20):\n",
    "    print(num)\n",
    "    num+= 1"
   ]
  },
  {
   "cell_type": "code",
   "execution_count": 3,
   "id": "126992ad",
   "metadata": {},
   "outputs": [
    {
     "name": "stdout",
     "output_type": "stream",
     "text": [
      "False\n",
      "True\n"
     ]
    }
   ],
   "source": [
    "num1 = 29\n",
    "num2 = 18\n",
    "print(num1 == num2)\n",
    "print(num1 != num2) "
   ]
  },
  {
   "cell_type": "code",
   "execution_count": 4,
   "id": "2ca35d99",
   "metadata": {},
   "outputs": [
    {
     "name": "stdout",
     "output_type": "stream",
     "text": [
      "Even Numbers: \n",
      "2 4 6 8 10 \n",
      "Odd Numbers:\n",
      "1 3 5 7 9 \n"
     ]
    }
   ],
   "source": [
    "Numbers = [1,2,3,4,5,6,7,8,9,10]\n",
    "print(\"Even Numbers: \")  \n",
    "for i in Numbers:     \n",
    "    if i % 2 == 0:       \n",
    "        print(i, end =\" \")    \n",
    "print(\"\\nOdd Numbers:\")\n",
    "for i in Numbers:\n",
    "    if i % 2 != 0:\n",
    "        print(i, end =\" \")\n",
    "print()"
   ]
  },
  {
   "cell_type": "code",
   "execution_count": 5,
   "id": "cc3473b8",
   "metadata": {},
   "outputs": [
    {
     "name": "stdout",
     "output_type": "stream",
     "text": [
      "Largest: 18\n"
     ]
    }
   ],
   "source": [
    "a = 12\n",
    "b = 18\n",
    "c = 9\n",
    "if a >= b and a >= c:\n",
    "    print(\"Largest:\", a)\n",
    "elif b >= a and b >= c:\n",
    "    print(\"Largest:\", b)\n",
    "else:\n",
    "    print(\"Largest:\", c)"
   ]
  },
  {
   "cell_type": "code",
   "execution_count": 6,
   "id": "27f159e5",
   "metadata": {},
   "outputs": [
    {
     "name": "stdout",
     "output_type": "stream",
     "text": [
      "Even Numbers Between 10 to 20: 10 12 14 16 18 20 \n"
     ]
    }
   ],
   "source": [
    "Num1 = 10\n",
    "Num2 = 20\n",
    "print(\"Even Numbers Between 10 to 20:\",end=\" \")\n",
    "while Num1 <= Num2:\n",
    "    if(Num1 % 2 == 0):\n",
    "        print(\"{0}\".format(Num1),end=\" \")\n",
    "    Num1 = Num1 + 1\n",
    "print()"
   ]
  },
  {
   "cell_type": "code",
   "execution_count": 7,
   "id": "6bfbbfc8",
   "metadata": {},
   "outputs": [
    {
     "name": "stdout",
     "output_type": "stream",
     "text": [
      "1\n",
      "2\n",
      "3\n",
      "4\n",
      "5\n",
      "6\n",
      "7\n",
      "8\n",
      "9\n",
      "10\n"
     ]
    }
   ],
   "source": [
    "Num = 1\n",
    "while True:\n",
    "    print(Num)\n",
    "    Num += 1\n",
    "    if Num > 10:\n",
    "        break"
   ]
  },
  {
   "cell_type": "code",
   "execution_count": 8,
   "id": "b9cf71b5",
   "metadata": {},
   "outputs": [
    {
     "name": "stdout",
     "output_type": "stream",
     "text": [
      "Enter a number:153\n",
      "Armstrong\n"
     ]
    }
   ],
   "source": [
    "num = int(input(\"Enter a number:\"))\n",
    "sum = 0\n",
    "temp = num\n",
    "num_digits = len(str(num))\n",
    "while temp > 0:\n",
    "    rem = temp % 10\n",
    "    sum += rem ** num_digits\n",
    "    temp //= 10\n",
    "if num == sum:\n",
    "    print(\"Armstrong\")\n",
    "else:\n",
    "    print(\"Not an Armstrong\")"
   ]
  },
  {
   "cell_type": "code",
   "execution_count": 9,
   "id": "4b7091f7",
   "metadata": {},
   "outputs": [
    {
     "name": "stdout",
     "output_type": "stream",
     "text": [
      "Enter a number:46\n",
      "46 is not a prime number\n"
     ]
    }
   ],
   "source": [
    "number = int(input(\"Enter a number:\"))\n",
    "if number > 1:\n",
    "    for i in range(2, number):\n",
    "        if (number % i) == 0:\n",
    "            print(number, \"is not a prime number\")\n",
    "            break\n",
    "    else:\n",
    "        print(number, \"is a prime number\")\n",
    "else:\n",
    "    print(number, \"is not a prime number\")"
   ]
  },
  {
   "cell_type": "code",
   "execution_count": 10,
   "id": "d23f7fff",
   "metadata": {},
   "outputs": [
    {
     "name": "stdout",
     "output_type": "stream",
     "text": [
      "Enter a number:153\n",
      "not a palindrome\n"
     ]
    }
   ],
   "source": [
    "num = int(input(\"Enter a number:\"))\n",
    "num1 = str(num)\n",
    "if num1 == num1[::-1]:\n",
    "    print(\"palindrome\")\n",
    "else:\n",
    "    print(\"not a palindrome\")"
   ]
  },
  {
   "cell_type": "code",
   "execution_count": 11,
   "id": "62ea42f3",
   "metadata": {},
   "outputs": [
    {
     "name": "stdout",
     "output_type": "stream",
     "text": [
      "Enter a Number: 2\n",
      "2 is Even \n"
     ]
    }
   ],
   "source": [
    "a = int(input('Enter a Number: '))\n",
    "if a % 2 == 0:\n",
    "    print(\"{0} is Even \".format(a))\n",
    "else:\n",
    "    print(\"{0} is Odd \".format(a))  "
   ]
  },
  {
   "cell_type": "code",
   "execution_count": 12,
   "id": "390d4ffc",
   "metadata": {},
   "outputs": [
    {
     "name": "stdout",
     "output_type": "stream",
     "text": [
      "Enter gender (M/F):M\n",
      "Male\n"
     ]
    }
   ],
   "source": [
    "gender = input(\"Enter gender (M/F):\").strip().upper()\n",
    "gender_switch = {\n",
    "    \"M\": \"Male\",\n",
    "    \"F\": \"Female\"\n",
    "}\n",
    "print(gender_switch.get(gender, \"Invalid input! Please enter 'M' or 'F'.\"))"
   ]
  }
 ],
 "metadata": {
  "kernelspec": {
   "display_name": "Python 3 (ipykernel)",
   "language": "python",
   "name": "python3"
  },
  "language_info": {
   "codemirror_mode": {
    "name": "ipython",
    "version": 3
   },
   "file_extension": ".py",
   "mimetype": "text/x-python",
   "name": "python",
   "nbconvert_exporter": "python",
   "pygments_lexer": "ipython3",
   "version": "3.9.13"
  }
 },
 "nbformat": 4,
 "nbformat_minor": 5
}
