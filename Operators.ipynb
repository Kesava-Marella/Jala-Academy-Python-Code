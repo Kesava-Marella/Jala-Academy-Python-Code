{
 "cells": [
  {
   "cell_type": "code",
   "execution_count": 1,
   "id": "8e4cea9e",
   "metadata": {},
   "outputs": [
    {
     "name": "stdout",
     "output_type": "stream",
     "text": [
      "Sum: 30\n",
      "Subtraction: -10\n",
      "Multiplication: 200\n",
      "Division: 0.5\n"
     ]
    }
   ],
   "source": [
    "num1 = 10\n",
    "num2 = 20\n",
    "\n",
    "# Add two numbers  \n",
    "sum = num1 + num2  \n",
    "# Subtract two numbers  \n",
    "sub = num1 - num2  \n",
    "# Multiply two numbers  \n",
    "mul = num1 * num2  \n",
    "#Divide two numbers  \n",
    "div = num1 / num2  \n",
    "\n",
    "print(\"Sum:\", sum)\n",
    "print(\"Subtraction:\", sub)\n",
    "print(\"Multiplication:\", mul)\n",
    "print(\"Division:\", div)"
   ]
  },
  {
   "cell_type": "code",
   "execution_count": 2,
   "id": "787f6087",
   "metadata": {},
   "outputs": [
    {
     "name": "stdout",
     "output_type": "stream",
     "text": [
      "Original Number: 10\n",
      "Incremented Number: 11\n",
      "Decremented Number: 10\n"
     ]
    }
   ],
   "source": [
    "num = 10\n",
    "print(\"Original Number:\", num)\n",
    "num += 1\n",
    "print(\"Incremented Number:\", num)\n",
    "num -= 1\n",
    "print(\"Decremented Number:\", num)"
   ]
  },
  {
   "cell_type": "code",
   "execution_count": 3,
   "id": "e981dbc9",
   "metadata": {},
   "outputs": [
    {
     "name": "stdout",
     "output_type": "stream",
     "text": [
      "Not Equal\n"
     ]
    }
   ],
   "source": [
    "num1 = 10\n",
    "num2 = 20\n",
    "if(num1==num2):\n",
    "    print(\"Equal\")\n",
    "else:\n",
    "    print(\"Not Equal\")"
   ]
  },
  {
   "cell_type": "code",
   "execution_count": 4,
   "id": "1cdda278",
   "metadata": {},
   "outputs": [
    {
     "name": "stdout",
     "output_type": "stream",
     "text": [
      "False\n",
      "False\n",
      "True\n",
      "True\n",
      "False\n",
      "True\n"
     ]
    }
   ],
   "source": [
    "num1 = 10\n",
    "num2 = 5\n",
    "\n",
    "print(num1 < num2)\n",
    "print(num1 <= num2)\n",
    "print(num1 > num2)\n",
    "print(num1 >= num2)   \n",
    "print(num1 == num2)\n",
    "print(num1 != num2)"
   ]
  },
  {
   "cell_type": "code",
   "execution_count": 5,
   "id": "82548bd3",
   "metadata": {},
   "outputs": [
    {
     "name": "stdout",
     "output_type": "stream",
     "text": [
      "The smaller number is: 89\n",
      "The larger number is: 98\n"
     ]
    }
   ],
   "source": [
    "num1 = 98\n",
    "num2 = 89\n",
    "\n",
    "# Determine the smaller and larger number\n",
    "smaller = num1 if num1 < num2 else num2\n",
    "larger = num1 if num1 > num2 else num2\n",
    "\n",
    "# Print the results\n",
    "print(f\"The smaller number is: {smaller}\")\n",
    "print(f\"The larger number is: {larger}\")\n"
   ]
  }
 ],
 "metadata": {
  "kernelspec": {
   "display_name": "Python 3 (ipykernel)",
   "language": "python",
   "name": "python3"
  },
  "language_info": {
   "codemirror_mode": {
    "name": "ipython",
    "version": 3
   },
   "file_extension": ".py",
   "mimetype": "text/x-python",
   "name": "python",
   "nbconvert_exporter": "python",
   "pygments_lexer": "ipython3",
   "version": "3.9.13"
  }
 },
 "nbformat": 4,
 "nbformat_minor": 5
}
