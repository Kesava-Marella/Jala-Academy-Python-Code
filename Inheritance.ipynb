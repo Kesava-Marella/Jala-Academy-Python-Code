{
 "cells": [
  {
   "cell_type": "code",
   "execution_count": 1,
   "id": "1c492ebb",
   "metadata": {},
   "outputs": [],
   "source": [
    "class A:\n",
    "    def __init__(self):\n",
    "        self.name = \"Class A\" \n",
    "    def method_a1(self):\n",
    "        print(\"Method A1 - Specific to Class A\")\n",
    "    def method_a2(self):\n",
    "        print(\"Method A2 - Specific to Class A\")\n",
    "    def overridden_method(self):\n",
    "        print(\"Overridden Method - Called from Class A\")"
   ]
  },
  {
   "cell_type": "code",
   "execution_count": 2,
   "id": "910a4aca",
   "metadata": {},
   "outputs": [],
   "source": [
    "class B(A):\n",
    "    def __init__(self):\n",
    "        super().__init__()\n",
    "        self.name = \"Class B\" \n",
    "    def method_b1(self):\n",
    "        print(\"Method B1 - Specific to Class B\")\n",
    "    def method_b2(self):\n",
    "        print(\"Method B2 - Specific to Class B\")\n",
    "    def overridden_method(self):\n",
    "        print(\"Overridden Method - Called from Class B\")"
   ]
  },
  {
   "cell_type": "code",
   "execution_count": 3,
   "id": "8f07e1e9",
   "metadata": {},
   "outputs": [],
   "source": [
    "class C(B):\n",
    "    def __init__(self):\n",
    "        super().__init__()\n",
    "        self.name = \"Class C\"\n",
    "    def method_c1(self):\n",
    "        print(\"Method C1 - Specific to Class C\")\n",
    "    def method_c2(self):\n",
    "        print(\"Method C2 - Specific to Class C\")\n",
    "    def overridden_method(self):\n",
    "        print(\"Overridden Method - Called from Class C\")"
   ]
  },
  {
   "cell_type": "code",
   "execution_count": 4,
   "id": "cbe6c6ab",
   "metadata": {},
   "outputs": [],
   "source": [
    "class MainClass:\n",
    "    def main(self):\n",
    "        a = A()\n",
    "        b = B()\n",
    "        c = C()\n",
    "        print(\"\\nClass A:\")\n",
    "        a.method_a1()\n",
    "        a.method_a2()\n",
    "        a.overridden_method() \n",
    "        print(\"\\nClass B:\")\n",
    "        b.method_b1()\n",
    "        b.method_b2()\n",
    "        b.overridden_method()\n",
    "        print(\"\\nClass C:\")\n",
    "        c.method_c1()\n",
    "        c.method_c2()\n",
    "        c.overridden_method()  \n",
    "        print(\"\\nDemonstrating runtime polymorphism:\")\n",
    "        obj_a = A()\n",
    "        obj_b = B()\n",
    "        obj_c = C()\n",
    "        print(\"\\nUsing superclass reference to call overridden methods:\")\n",
    "        obj_a = b\n",
    "        obj_a.overridden_method()  \n",
    "        obj_a = c\n",
    "        obj_a.overridden_method() "
   ]
  },
  {
   "cell_type": "code",
   "execution_count": 5,
   "id": "ea2ca1fa",
   "metadata": {},
   "outputs": [
    {
     "name": "stdout",
     "output_type": "stream",
     "text": [
      "\n",
      "Class A:\n",
      "Method A1 - Specific to Class A\n",
      "Method A2 - Specific to Class A\n",
      "Overridden Method - Called from Class A\n",
      "\n",
      "Class B:\n",
      "Method B1 - Specific to Class B\n",
      "Method B2 - Specific to Class B\n",
      "Overridden Method - Called from Class B\n",
      "\n",
      "Class C:\n",
      "Method C1 - Specific to Class C\n",
      "Method C2 - Specific to Class C\n",
      "Overridden Method - Called from Class C\n",
      "\n",
      "Demonstrating runtime polymorphism:\n",
      "\n",
      "Using superclass reference to call overridden methods:\n",
      "Overridden Method - Called from Class B\n",
      "Overridden Method - Called from Class C\n"
     ]
    }
   ],
   "source": [
    "if __name__ == \"__main__\":\n",
    "    main_obj = MainClass()\n",
    "    main_obj.main()"
   ]
  }
 ],
 "metadata": {
  "kernelspec": {
   "display_name": "Python 3 (ipykernel)",
   "language": "python",
   "name": "python3"
  },
  "language_info": {
   "codemirror_mode": {
    "name": "ipython",
    "version": 3
   },
   "file_extension": ".py",
   "mimetype": "text/x-python",
   "name": "python",
   "nbconvert_exporter": "python",
   "pygments_lexer": "ipython3",
   "version": "3.9.13"
  }
 },
 "nbformat": 4,
 "nbformat_minor": 5
}
