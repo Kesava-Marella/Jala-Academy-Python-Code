{
 "cells": [
  {
   "cell_type": "code",
   "execution_count": 1,
   "id": "9e85cd7c",
   "metadata": {},
   "outputs": [
    {
     "name": "stdout",
     "output_type": "stream",
     "text": [
      "Sum of all integer values in array:  100\n"
     ]
    }
   ],
   "source": [
    "arr = [10,20,30,40]\n",
    "sum = 0\n",
    "for i in range(0,len(arr)):\n",
    "    sum = sum + arr[i]\n",
    "print(\"Sum of all integer values in array: \",sum) "
   ]
  },
  {
   "cell_type": "code",
   "execution_count": 2,
   "id": "e742ac93",
   "metadata": {},
   "outputs": [
    {
     "name": "stdout",
     "output_type": "stream",
     "text": [
      "The average is 32.0\n"
     ]
    }
   ],
   "source": [
    "def cal_average(num):\n",
    "    sum_num = 0 \n",
    "    for i in num:\n",
    "        sum_num = sum_num + i          \n",
    "    avg = sum_num / len(num)\n",
    "    return avg\n",
    "print(\"The average is\", cal_average([10,21,32,43,54]))"
   ]
  },
  {
   "cell_type": "code",
   "execution_count": 3,
   "id": "55d3465f",
   "metadata": {},
   "outputs": [
    {
     "name": "stdout",
     "output_type": "stream",
     "text": [
      "1\n",
      "Index of 6: 4\n"
     ]
    }
   ],
   "source": [
    "arr = [1,3,5,2,6,8,9]\n",
    "print(arr.index(3))\n",
    "in_dex = arr.index(6)\n",
    "print(\"Index of 6:\", in_dex)"
   ]
  },
  {
   "cell_type": "code",
   "execution_count": 4,
   "id": "786b9cde",
   "metadata": {},
   "outputs": [
    {
     "name": "stdout",
     "output_type": "stream",
     "text": [
      "Element exist\n"
     ]
    }
   ],
   "source": [
    "arr = [46,52,45,80,20]\n",
    "for num in arr:\n",
    "    if num == 52:\n",
    "        print(\"Element exist\")"
   ]
  },
  {
   "cell_type": "code",
   "execution_count": 5,
   "id": "75775a41",
   "metadata": {},
   "outputs": [
    {
     "name": "stdout",
     "output_type": "stream",
     "text": [
      "[42, 98, 17, 57, 48]\n"
     ]
    }
   ],
   "source": [
    "arr = [42,98,15,17,57,48]\n",
    "arr.remove(15)\n",
    "print(arr)"
   ]
  },
  {
   "cell_type": "code",
   "execution_count": 6,
   "id": "abe399a6",
   "metadata": {},
   "outputs": [
    {
     "name": "stdout",
     "output_type": "stream",
     "text": [
      "[21, 34, 43, 76, 96]\n"
     ]
    }
   ],
   "source": [
    "arr = [21,34,43,76,96]\n",
    "arr1 = []\n",
    "arr1 = arr.copy()\n",
    "print(arr1)"
   ]
  },
  {
   "cell_type": "code",
   "execution_count": 7,
   "id": "38563158",
   "metadata": {},
   "outputs": [
    {
     "name": "stdout",
     "output_type": "stream",
     "text": [
      "[14, 25, 37, 64, 57, 78, 98]\n"
     ]
    }
   ],
   "source": [
    "arr = [14,25,64,57,78,98]\n",
    "arr.insert(2,37)\n",
    "print(arr)"
   ]
  },
  {
   "cell_type": "code",
   "execution_count": 8,
   "id": "d184c2dd",
   "metadata": {},
   "outputs": [
    {
     "name": "stdout",
     "output_type": "stream",
     "text": [
      "The minimum value: 9\n",
      "The maximum value: 9449\n"
     ]
    }
   ],
   "source": [
    "arr = [2005,2876,5467,3678,9,9449,5435]\n",
    "min_value = min(arr)\n",
    "print (\"The minimum value:\", min_value)\n",
    "max_value = max(arr)\n",
    "print (\"The maximum value:\", max_value)"
   ]
  },
  {
   "cell_type": "code",
   "execution_count": 9,
   "id": "c165c439",
   "metadata": {},
   "outputs": [
    {
     "name": "stdout",
     "output_type": "stream",
     "text": [
      "[24, 73, 56, 98, 27]\n"
     ]
    }
   ],
   "source": [
    "arr = [27,98,56,73,24]\n",
    "arr.reverse()\n",
    "print(arr)"
   ]
  },
  {
   "cell_type": "code",
   "execution_count": 10,
   "id": "76d6ba94",
   "metadata": {},
   "outputs": [
    {
     "name": "stdout",
     "output_type": "stream",
     "text": [
      "[1, 2, 5]\n"
     ]
    }
   ],
   "source": [
    "a = [1, 2, 3, 1, 2, 4, 5, 6, 5]\n",
    "s = set()\n",
    "dup = []\n",
    "for n in a:\n",
    "    if n in s:\n",
    "        dup.append(n)\n",
    "    else:\n",
    "        s.add(n)\n",
    "print(dup)"
   ]
  },
  {
   "cell_type": "code",
   "execution_count": 11,
   "id": "6e155467",
   "metadata": {},
   "outputs": [
    {
     "name": "stdout",
     "output_type": "stream",
     "text": [
      "[3, 4, 5]\n"
     ]
    }
   ],
   "source": [
    "def find_common_values(arr1, arr2):\n",
    "    common_values = set(arr1) & set(arr2)\n",
    "    return list(common_values)\n",
    "\n",
    "arr1 = [1, 2, 3, 4, 5]\n",
    "arr2 = [3, 4, 5, 6, 7]\n",
    "print(find_common_values(arr1, arr2))"
   ]
  },
  {
   "cell_type": "code",
   "execution_count": 12,
   "id": "955702ec",
   "metadata": {},
   "outputs": [
    {
     "name": "stdout",
     "output_type": "stream",
     "text": [
      "[1, 2, 3, 4, 5]\n"
     ]
    }
   ],
   "source": [
    "def remove_duplicates(arr):\n",
    "    return list(set(arr))\n",
    "\n",
    "arr = [1, 2, 2, 3, 4, 4, 5]\n",
    "print(remove_duplicates(arr))"
   ]
  },
  {
   "cell_type": "code",
   "execution_count": 13,
   "id": "7fcbc6ed",
   "metadata": {},
   "outputs": [
    {
     "name": "stdout",
     "output_type": "stream",
     "text": [
      "Second largest number: 743\n"
     ]
    }
   ],
   "source": [
    "arr = [675,876,356,743,143,419]\n",
    "arr.sort() \n",
    "print(\"Second largest number:\",arr[-2])"
   ]
  },
  {
   "cell_type": "code",
   "execution_count": 14,
   "id": "48652cdc",
   "metadata": {},
   "outputs": [
    {
     "name": "stdout",
     "output_type": "stream",
     "text": [
      "Even Numbers in given array: 4\n",
      "Odd Numbers in given array: 5\n"
     ]
    }
   ],
   "source": [
    "arr = [1,2,3,4,5,6,7,8,9]\n",
    "even_numbers = 0\n",
    "odd_numbers = 0\n",
    "for i in arr:\n",
    "    if i % 2 == 0:\n",
    "        even_numbers += 1\n",
    "    else:\n",
    "        odd_numbers += 1 \n",
    "print(\"Even Numbers in given array:\",even_numbers)\n",
    "print(\"Odd Numbers in given array:\",odd_numbers)"
   ]
  },
  {
   "cell_type": "code",
   "execution_count": 15,
   "id": "052a5a91",
   "metadata": {},
   "outputs": [
    {
     "name": "stdout",
     "output_type": "stream",
     "text": [
      "Diffrence of largest and smallest value: 75\n"
     ]
    }
   ],
   "source": [
    "arr = [56,72,39,92,17]\n",
    "arr.sort()\n",
    "print(\"Diffrence of largest and smallest value:\",arr[4]-arr[0])"
   ]
  },
  {
   "cell_type": "code",
   "execution_count": 16,
   "id": "1abbcea7",
   "metadata": {},
   "outputs": [
    {
     "name": "stdout",
     "output_type": "stream",
     "text": [
      "True\n"
     ]
    }
   ],
   "source": [
    "def contains_elements(arr):\n",
    "    return 12 in arr and 23 in arr\n",
    "\n",
    "arr = [27, 82, 12, 23, 59]\n",
    "print(contains_elements(arr))"
   ]
  },
  {
   "cell_type": "code",
   "execution_count": 17,
   "id": "d4a9ab54",
   "metadata": {},
   "outputs": [
    {
     "name": "stdout",
     "output_type": "stream",
     "text": [
      "[1, 2, 3, 4, 5]\n"
     ]
    }
   ],
   "source": [
    "def remove_duplicates(arr):\n",
    "    return list(set(arr))\n",
    "\n",
    "arr = [1, 2, 2, 3, 4, 4, 5]\n",
    "new_arr = remove_duplicates(arr)\n",
    "print(new_arr)"
   ]
  }
 ],
 "metadata": {
  "kernelspec": {
   "display_name": "Python 3 (ipykernel)",
   "language": "python",
   "name": "python3"
  },
  "language_info": {
   "codemirror_mode": {
    "name": "ipython",
    "version": 3
   },
   "file_extension": ".py",
   "mimetype": "text/x-python",
   "name": "python",
   "nbconvert_exporter": "python",
   "pygments_lexer": "ipython3",
   "version": "3.9.13"
  }
 },
 "nbformat": 4,
 "nbformat_minor": 5
}
