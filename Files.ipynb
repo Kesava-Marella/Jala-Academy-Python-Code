{
 "cells": [
  {
   "cell_type": "code",
   "execution_count": 4,
   "id": "db99d787",
   "metadata": {},
   "outputs": [
    {
     "name": "stdout",
     "output_type": "stream",
     "text": [
      "Lorem ipsum dolor sit amet, consectetur adipiscing elit. \n",
      "Sed do eiusmod tempor incididunt ut labore et dolore magna aliqua.\n",
      "\n",
      "This sample TXT file is provided by Sample-Files.com. Visit us for more sample files and resources.\n"
     ]
    }
   ],
   "source": [
    "with open('simple.txt', 'r') as file:\n",
    "    print(file.read())"
   ]
  },
  {
   "cell_type": "code",
   "execution_count": null,
   "id": "63f1f525",
   "metadata": {},
   "outputs": [
    {
     "name": "stdout",
     "output_type": "stream",
     "text": [
      "Enter text to write to the file: hiiiiiiii\n"
     ]
    }
   ],
   "source": [
    "text = input(\"Enter text to write to the file: \")\n",
    "with open('sample.txt', 'w') as file:\n",
    "    file.write(text)"
   ]
  },
  {
   "cell_type": "code",
   "execution_count": 10,
   "id": "9ba4902e",
   "metadata": {},
   "outputs": [
    {
     "name": "stdout",
     "output_type": "stream",
     "text": [
      "b'Lorem ipsum dolor sit amet, consectetur adipiscing elit. \\nSed do eiusmod tempor incididunt ut labore et dolore magna aliqua.\\n\\nThis sample TXT file is provided by Sample-Files.com. Visit us for more sample files and resources.'\n"
     ]
    }
   ],
   "source": [
    "with open('simple.txt', 'rb') as file:\n",
    "    print(file.read())"
   ]
  },
  {
   "cell_type": "code",
   "execution_count": 12,
   "id": "c322cab1",
   "metadata": {},
   "outputs": [
    {
     "name": "stdout",
     "output_type": "stream",
     "text": [
      " ipsum dolor sit amet, consectetur adipiscing elit. \n",
      "Sed do eiusmod tempor incididunt ut labore et dolore magna aliqua.\n",
      "\n",
      "This sample TXT file is provided by Sample-Files.com. Visit us for more sample files and resources.\n"
     ]
    }
   ],
   "source": [
    "with open('simple.txt', 'r') as file:\n",
    "    file.seek(5)\n",
    "    print(file.read())"
   ]
  },
  {
   "cell_type": "code",
   "execution_count": 13,
   "id": "9c14a756",
   "metadata": {},
   "outputs": [
    {
     "name": "stdout",
     "output_type": "stream",
     "text": [
      "m dolor sit amet, consectetur adipiscing elit. \n",
      "Sed do eiusmod tempor incididunt ut labore et dolore magna aliqua.\n",
      "\n",
      "This sample TXT file is provided by Sample-Files.com. Visit us for more sample files and resources.\n"
     ]
    }
   ],
   "source": [
    "with open('simple.txt', 'r') as file:\n",
    "    file.seek(10)\n",
    "    print(file.read()) "
   ]
  },
  {
   "cell_type": "code",
   "execution_count": 15,
   "id": "51903512",
   "metadata": {},
   "outputs": [
    {
     "name": "stdout",
     "output_type": "stream",
     "text": [
      "Read access: True\n",
      "Write access: True\n"
     ]
    }
   ],
   "source": [
    "import os\n",
    "file_path = 'simple.txt'\n",
    "print(\"Read access:\", os.access(file_path, os.R_OK))\n",
    "print(\"Write access:\", os.access(file_path, os.W_OK))"
   ]
  },
  {
   "cell_type": "code",
   "execution_count": null,
   "id": "75afb886",
   "metadata": {},
   "outputs": [],
   "source": []
  }
 ],
 "metadata": {
  "kernelspec": {
   "display_name": "Python 3 (ipykernel)",
   "language": "python",
   "name": "python3"
  },
  "language_info": {
   "codemirror_mode": {
    "name": "ipython",
    "version": 3
   },
   "file_extension": ".py",
   "mimetype": "text/x-python",
   "name": "python",
   "nbconvert_exporter": "python",
   "pygments_lexer": "ipython3",
   "version": "3.9.13"
  }
 },
 "nbformat": 4,
 "nbformat_minor": 5
}
