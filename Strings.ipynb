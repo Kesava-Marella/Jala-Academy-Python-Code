{
 "cells": [
  {
   "cell_type": "code",
   "execution_count": 1,
   "id": "9e36b563",
   "metadata": {},
   "outputs": [
    {
     "name": "stdout",
     "output_type": "stream",
     "text": [
      "ABC\n",
      "DEF\n",
      "GHI\n",
      "THESE ARE THE LETTERS \n",
      "\n"
     ]
    }
   ],
   "source": [
    "string = 'ABC'\n",
    "print(string)\n",
    "\n",
    "string1 = \"DEF\"\n",
    "print(string1)\n",
    "\n",
    "string2 = '''GHI'''\n",
    "print(string2)\n",
    "\n",
    "string3 = \"\"\"THESE ARE THE LETTERS \"\"\"\n",
    "print(string3)\n",
    "print()"
   ]
  },
  {
   "cell_type": "code",
   "execution_count": 2,
   "id": "6eef755e",
   "metadata": {},
   "outputs": [
    {
     "name": "stdout",
     "output_type": "stream",
     "text": [
      "After String Concatenation: ABCDEF\n",
      "\n"
     ]
    }
   ],
   "source": [
    "str1 = string + string1\n",
    "print(\"After String Concatenation:\",str1)\n",
    "print()"
   ]
  },
  {
   "cell_type": "code",
   "execution_count": 3,
   "id": "2a5f40c8",
   "metadata": {},
   "outputs": [
    {
     "name": "stdout",
     "output_type": "stream",
     "text": [
      "length of the string is: 6\n",
      "\n"
     ]
    }
   ],
   "source": [
    "print(\"length of the string is:\",len(str1))\n",
    "print()"
   ]
  },
  {
   "cell_type": "code",
   "execution_count": 4,
   "id": "da831e49",
   "metadata": {},
   "outputs": [
    {
     "name": "stdout",
     "output_type": "stream",
     "text": [
      "Kesav\n"
     ]
    }
   ],
   "source": [
    "text = \"Hello, Kesava\"\n",
    "substring = text[7:12] \n",
    "print(substring)"
   ]
  },
  {
   "cell_type": "code",
   "execution_count": 5,
   "id": "7601515a",
   "metadata": {},
   "outputs": [
    {
     "name": "stdout",
     "output_type": "stream",
     "text": [
      "Position of sava: 2\n",
      "Position of v: 4\n",
      "\n"
     ]
    }
   ],
   "source": [
    "str3 = 'Kesava'\n",
    "str4 = 'sava'\n",
    "str2 = 'v'\n",
    "print(\"Position of sava:\",str3.index(str4))\n",
    "print(\"Position of v:\",str3.index(str2))\n",
    "print()"
   ]
  },
  {
   "cell_type": "code",
   "execution_count": 6,
   "id": "570ea649",
   "metadata": {},
   "outputs": [
    {
     "name": "stdout",
     "output_type": "stream",
     "text": [
      "<re.Match object; span=(0, 6), match='Python'>\n",
      "\n"
     ]
    }
   ],
   "source": [
    "from ast import Str\n",
    "import re\n",
    "Substr = 'Python'\n",
    "str6 = 'Python is one of the programming language'\n",
    "print(re.match(Substr,str6))\n",
    "print()"
   ]
  },
  {
   "cell_type": "code",
   "execution_count": 7,
   "id": "883c6ebf",
   "metadata": {},
   "outputs": [
    {
     "name": "stdout",
     "output_type": "stream",
     "text": [
      "False\n",
      "True\n",
      "False\n",
      "True\n",
      "\n"
     ]
    }
   ],
   "source": [
    "str8 = 'Poojitha Lakshmi'\n",
    "str5 = 'Kesava Naga Durgesh'\n",
    "str2 = str8\n",
    "print(str8 == str5)\n",
    "print(str8 == str2)\n",
    "print(str5 == str2)\n",
    "print(str8 != str5)\n",
    "print()"
   ]
  },
  {
   "cell_type": "code",
   "execution_count": 8,
   "id": "e60abad3",
   "metadata": {},
   "outputs": [
    {
     "name": "stdout",
     "output_type": "stream",
     "text": [
      "True\n",
      "True\n",
      "\n"
     ]
    }
   ],
   "source": [
    "string = 'Deva Ratha'\n",
    "print(string.startswith(\"Deva\"))\n",
    "print(string.endswith(\"Ratha\"))\n",
    "print()"
   ]
  },
  {
   "cell_type": "code",
   "execution_count": 9,
   "id": "2a916d67",
   "metadata": {},
   "outputs": [
    {
     "name": "stdout",
     "output_type": "stream",
     "text": [
      "Hello \n",
      "\n"
     ]
    }
   ],
   "source": [
    "str7 = 'Hello Deva'\n",
    "print(str7.strip(\"Deva\"))\n",
    "print()"
   ]
  },
  {
   "cell_type": "code",
   "execution_count": 10,
   "id": "f625781d",
   "metadata": {},
   "outputs": [
    {
     "name": "stdout",
     "output_type": "stream",
     "text": [
      "Hello Deva\n",
      "\n"
     ]
    }
   ],
   "source": [
    "string = 'Hi Deva'\n",
    "print(string.replace(\"Hi\",\"Hello\"))\n",
    "print()"
   ]
  },
  {
   "cell_type": "code",
   "execution_count": 11,
   "id": "074589b5",
   "metadata": {},
   "outputs": [
    {
     "name": "stdout",
     "output_type": "stream",
     "text": [
      "['hey', 'deva', 'wait']\n",
      "\n"
     ]
    }
   ],
   "source": [
    "str9 = 'hey-deva-wait'\n",
    "print(str9.split(\"-\"))\n",
    "print()"
   ]
  },
  {
   "cell_type": "code",
   "execution_count": 12,
   "id": "6b3b9ec9",
   "metadata": {},
   "outputs": [
    {
     "name": "stdout",
     "output_type": "stream",
     "text": [
      "78\n",
      "<class 'str'>\n"
     ]
    }
   ],
   "source": [
    "numb = 78\n",
    "numb1 = str(numb)\n",
    "print(numb1)\n",
    "print(type(numb1))"
   ]
  },
  {
   "cell_type": "code",
   "execution_count": 13,
   "id": "294dfe83",
   "metadata": {},
   "outputs": [
    {
     "name": "stdout",
     "output_type": "stream",
     "text": [
      "HELLO\n",
      "deva\n"
     ]
    }
   ],
   "source": [
    "string = 'hello'\n",
    "string1 = 'DEVA'\n",
    "print(string.upper())\n",
    "print(string1.lower())"
   ]
  }
 ],
 "metadata": {
  "kernelspec": {
   "display_name": "Python 3 (ipykernel)",
   "language": "python",
   "name": "python3"
  },
  "language_info": {
   "codemirror_mode": {
    "name": "ipython",
    "version": 3
   },
   "file_extension": ".py",
   "mimetype": "text/x-python",
   "name": "python",
   "nbconvert_exporter": "python",
   "pygments_lexer": "ipython3",
   "version": "3.9.13"
  }
 },
 "nbformat": 4,
 "nbformat_minor": 5
}
