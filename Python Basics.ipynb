{
 "cells": [
  {
   "cell_type": "code",
   "execution_count": 1,
   "id": "86a70b67",
   "metadata": {},
   "outputs": [
    {
     "name": "stdout",
     "output_type": "stream",
     "text": [
      "Marella Kesava Naga Durgesh\n"
     ]
    }
   ],
   "source": [
    "print(\"Marella Kesava Naga Durgesh\")"
   ]
  },
  {
   "cell_type": "code",
   "execution_count": 2,
   "id": "ac1044ab",
   "metadata": {},
   "outputs": [
    {
     "data": {
      "text/plain": [
       "'\\nThis is a multi-line comment.\\n'"
      ]
     },
     "execution_count": 2,
     "metadata": {},
     "output_type": "execute_result"
    }
   ],
   "source": [
    "# This is a single-line comment\n",
    "\n",
    "\"\"\"\n",
    "This is a multi-line comment.\n",
    "\"\"\""
   ]
  },
  {
   "cell_type": "code",
   "execution_count": 3,
   "id": "48c70641",
   "metadata": {},
   "outputs": [],
   "source": [
    "global_int = 10\n",
    "global_bool = True\n",
    "global_char = 'A'\n",
    "global_float = 3.14\n",
    "global_double = 3.14159"
   ]
  },
  {
   "cell_type": "code",
   "execution_count": 4,
   "id": "464f65d3",
   "metadata": {},
   "outputs": [
    {
     "name": "stdout",
     "output_type": "stream",
     "text": [
      "10\n",
      "True\n",
      "A\n",
      "3.14\n",
      "3.14159\n"
     ]
    }
   ],
   "source": [
    "print(global_int)\n",
    "print(global_bool)\n",
    "print(global_char)\n",
    "print(global_float)\n",
    "print(global_double)"
   ]
  },
  {
   "cell_type": "code",
   "execution_count": 5,
   "id": "0bfbc0da",
   "metadata": {},
   "outputs": [
    {
     "name": "stdout",
     "output_type": "stream",
     "text": [
      "Local Variables:\n",
      "Local int: 20\n",
      "Local bool: False\n",
      "Local char: B\n",
      "Local float: 6.28\n",
      "Local double: 2.71828\n",
      "\n",
      "Global Variables:\n",
      "Global int: 10\n",
      "Global bool: True\n",
      "Global char: A\n",
      "Global float: 3.14\n",
      "Global double: 3.14159\n"
     ]
    }
   ],
   "source": [
    "def main():\n",
    "    # Define local variables with the same names as global variables\n",
    "    global_int = 20\n",
    "    global_bool = False\n",
    "    global_char = 'B'\n",
    "    global_float = 6.28\n",
    "    global_double = 2.71828\n",
    "\n",
    "    # Print the local variables\n",
    "    print(\"Local Variables:\")\n",
    "    print(\"Local int:\", global_int)\n",
    "    print(\"Local bool:\", global_bool)\n",
    "    print(\"Local char:\", global_char)\n",
    "    print(\"Local float:\", global_float)\n",
    "    print(\"Local double:\", global_double)\n",
    "\n",
    "    # Print the global variables by using the global keyword\n",
    "    print(\"\\nGlobal Variables:\")\n",
    "    print(\"Global int:\", globals()['global_int'])\n",
    "    print(\"Global bool:\", globals()['global_bool'])\n",
    "    print(\"Global char:\", globals()['global_char'])\n",
    "    print(\"Global float:\", globals()['global_float'])\n",
    "    print(\"Global double:\", globals()['global_double'])\n",
    "\n",
    "# Call the main function\n",
    "main()"
   ]
  }
 ],
 "metadata": {
  "kernelspec": {
   "display_name": "Python 3 (ipykernel)",
   "language": "python",
   "name": "python3"
  },
  "language_info": {
   "codemirror_mode": {
    "name": "ipython",
    "version": 3
   },
   "file_extension": ".py",
   "mimetype": "text/x-python",
   "name": "python",
   "nbconvert_exporter": "python",
   "pygments_lexer": "ipython3",
   "version": "3.9.13"
  }
 },
 "nbformat": 4,
 "nbformat_minor": 5
}
