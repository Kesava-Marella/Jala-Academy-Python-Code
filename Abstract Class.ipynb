{
 "cells": [
  {
   "cell_type": "code",
   "execution_count": 1,
   "id": "fee2b4d8",
   "metadata": {},
   "outputs": [],
   "source": [
    "from abc import ABC, abstractmethod\n",
    "class Animal(ABC):\n",
    "    def __init__(self, name):\n",
    "        self.name = name\n",
    "    def speak(self):\n",
    "        print(f\"{self.name} makes a sound.\")\n",
    "    @abstractmethod\n",
    "    def move(self):\n",
    "        pass"
   ]
  },
  {
   "cell_type": "code",
   "execution_count": 2,
   "id": "5e75cc8d",
   "metadata": {},
   "outputs": [],
   "source": [
    "class Dog(Animal):\n",
    "    def __init__(self, name):\n",
    "        super().__init__(name)\n",
    "    def move(self):\n",
    "        print(f\"{self.name} runs.\")\n",
    "    def perform_actions(self):\n",
    "        self.speak()  \n",
    "        self.move()   "
   ]
  },
  {
   "cell_type": "code",
   "execution_count": 3,
   "id": "df081488",
   "metadata": {},
   "outputs": [],
   "source": [
    "class DogHandler:\n",
    "    def create_and_call(self):\n",
    "        dog = Dog(\"Buddy\") \n",
    "        dog.move()"
   ]
  },
  {
   "cell_type": "code",
   "execution_count": 4,
   "id": "eb3bd908",
   "metadata": {},
   "outputs": [
    {
     "name": "stdout",
     "output_type": "stream",
     "text": [
      "Buddy makes a sound.\n",
      "Buddy runs.\n",
      "Max makes a sound.\n",
      "Max runs.\n"
     ]
    }
   ],
   "source": [
    "class DogActions:\n",
    "    def create_and_call(self):\n",
    "        dog = Dog(\"Buddy\")\n",
    "        dog.speak() \n",
    "if __name__ == \"__main__\":\n",
    "    dog_action = DogActions()\n",
    "    dog_action.create_and_call()\n",
    "    dog_handler = DogHandler()\n",
    "    dog_handler.create_and_call()\n",
    "    dog = Dog(\"Max\")\n",
    "    dog.perform_actions()"
   ]
  }
 ],
 "metadata": {
  "kernelspec": {
   "display_name": "Python 3 (ipykernel)",
   "language": "python",
   "name": "python3"
  },
  "language_info": {
   "codemirror_mode": {
    "name": "ipython",
    "version": 3
   },
   "file_extension": ".py",
   "mimetype": "text/x-python",
   "name": "python",
   "nbconvert_exporter": "python",
   "pygments_lexer": "ipython3",
   "version": "3.9.13"
  }
 },
 "nbformat": 4,
 "nbformat_minor": 5
}
