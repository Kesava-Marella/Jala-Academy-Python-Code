{
 "cells": [
  {
   "cell_type": "code",
   "execution_count": 1,
   "id": "85542580",
   "metadata": {},
   "outputs": [
    {
     "name": "stdout",
     "output_type": "stream",
     "text": [
      "\n",
      "Accessing private fields and methods through public method of A:\n",
      "Accessing private fields from public method: Private Field 1, Private Field 2\n",
      "This is a private method in class A.\n",
      "Error accessing private field: 'A' object has no attribute '_MainClass__private_field1'\n",
      "Error calling private method: 'A' object has no attribute '_MainClass__private_method'\n",
      "\n",
      "Trying to access private fields and methods from subclass:\n",
      "Error accessing private field from subclass: 'B' object has no attribute '_B__private_field1'\n",
      "Error calling private method from subclass: 'B' object has no attribute '_B__private_method'\n"
     ]
    }
   ],
   "source": [
    "class A:\n",
    "    def __init__(self):\n",
    "        self.__private_field1 = \"Private Field 1\"\n",
    "        self.__private_field2 = \"Private Field 2\"\n",
    "    def __private_method(self):\n",
    "        print(\"This is a private method in class A.\")\n",
    "    def access_private(self):\n",
    "        print(f\"Accessing private fields from public method: {self.__private_field1}, {self.__private_field2}\")\n",
    "        self.__private_method()\n",
    "        \n",
    "class MainClass:\n",
    "    def main(self):\n",
    "        obj_a = A()\n",
    "        print(\"\\nAccessing private fields and methods through public method of A:\")\n",
    "        obj_a.access_private()\n",
    "        try:\n",
    "            print(f\"Direct access to private field1: {obj_a.__private_field1}\")\n",
    "        except AttributeError as e:\n",
    "            print(f\"Error accessing private field: {e}\")\n",
    "        try:\n",
    "            obj_a.__private_method()\n",
    "        except AttributeError as e:\n",
    "            print(f\"Error calling private method: {e}\")\n",
    "        print(\"\\nTrying to access private fields and methods from subclass:\")\n",
    "        obj_b = B()\n",
    "        obj_b.try_access_private()\n",
    "\n",
    "class B(A):\n",
    "    def __init__(self):\n",
    "        super().__init__()\n",
    "\n",
    "    def try_access_private(self):\n",
    "        try:\n",
    "            print(f\"Accessing private field1 from subclass B: {self.__private_field1}\")\n",
    "        except AttributeError as e:\n",
    "            print(f\"Error accessing private field from subclass: {e}\")\n",
    "        \n",
    "        try:\n",
    "            self.__private_method()\n",
    "        except AttributeError as e:\n",
    "            print(f\"Error calling private method from subclass: {e}\")\n",
    "\n",
    "if __name__ == \"__main__\":\n",
    "    main_obj = MainClass()\n",
    "    main_obj.main()"
   ]
  },
  {
   "cell_type": "code",
   "execution_count": 2,
   "id": "68bf6286",
   "metadata": {},
   "outputs": [
    {
     "name": "stdout",
     "output_type": "stream",
     "text": [
      "\n",
      "Accessing protected fields and methods through public method of A:\n",
      "Accessing protected fields from public method: Protected Field 1, Protected Field 2\n",
      "This is a protected method in class A.\n",
      "Direct access to protected field1: Protected Field 1\n",
      "This is a protected method in class A.\n"
     ]
    }
   ],
   "source": [
    "# Class in the same package\n",
    "class A:\n",
    "    def __init__(self):\n",
    "        self._protected_field1 = \"Protected Field 1\"\n",
    "        self._protected_field2 = \"Protected Field 2\"\n",
    "    def _protected_method(self):\n",
    "        print(\"This is a protected method in class A.\")\n",
    "    def access_protected(self):\n",
    "        print(f\"Accessing protected fields from public method: {self._protected_field1}, {self._protected_field2}\")\n",
    "        self._protected_method()\n",
    "\n",
    "class MainClass:\n",
    "    def main(self):\n",
    "        obj_a = A()\n",
    "        print(\"\\nAccessing protected fields and methods through public method of A:\")\n",
    "        obj_a.access_protected()\n",
    "        print(f\"Direct access to protected field1: {obj_a._protected_field1}\")\n",
    "        obj_a._protected_method()\n",
    "\n",
    "if __name__ == \"__main__\":\n",
    "    main_obj = MainClass()\n",
    "    main_obj.main()"
   ]
  },
  {
   "cell_type": "code",
   "execution_count": 3,
   "id": "3942ba51",
   "metadata": {},
   "outputs": [
    {
     "name": "stdout",
     "output_type": "stream",
     "text": [
      "\n",
      "Accessing public fields and methods:\n",
      "Direct access to public field1: Public Field 1\n",
      "This is a public method in class A.\n"
     ]
    }
   ],
   "source": [
    "class A:\n",
    "    def __init__(self):\n",
    "        self.public_field1 = \"Public Field 1\"\n",
    "        self.public_field2 = \"Public Field 2\"\n",
    "    def public_method(self):\n",
    "        print(\"This is a public method in class A.\")\n",
    "\n",
    "class MainClass:\n",
    "    def main(self):\n",
    "        obj_a = A()\n",
    "        print(\"\\nAccessing public fields and methods:\")\n",
    "        print(f\"Direct access to public field1: {obj_a.public_field1}\")\n",
    "        obj_a.public_method()\n",
    "\n",
    "if __name__ == \"__main__\":\n",
    "    main_obj = MainClass()\n",
    "    main_obj.main()"
   ]
  }
 ],
 "metadata": {
  "kernelspec": {
   "display_name": "Python 3 (ipykernel)",
   "language": "python",
   "name": "python3"
  },
  "language_info": {
   "codemirror_mode": {
    "name": "ipython",
    "version": 3
   },
   "file_extension": ".py",
   "mimetype": "text/x-python",
   "name": "python",
   "nbconvert_exporter": "python",
   "pygments_lexer": "ipython3",
   "version": "3.9.13"
  }
 },
 "nbformat": 4,
 "nbformat_minor": 5
}
