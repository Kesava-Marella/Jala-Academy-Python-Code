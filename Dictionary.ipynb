{
 "cells": [
  {
   "cell_type": "code",
   "execution_count": 3,
   "id": "1f0201bb",
   "metadata": {},
   "outputs": [
    {
     "data": {
      "text/plain": [
       "{101: 'Naresh',\n",
       " 102: 'Vishnu',\n",
       " 103: 'Veerendra Vyas',\n",
       " 104: 'Kesava',\n",
       " 105: 'Veerendra Kumar'}"
      ]
     },
     "execution_count": 3,
     "metadata": {},
     "output_type": "execute_result"
    }
   ],
   "source": [
    "students = {101: \"Naresh\", 102: \"Vishnu\", 103: \"Veerendra Vyas\", 104: \"Kesava\", 105: \"Veerendra Kumar\"}\n",
    "students"
   ]
  },
  {
   "cell_type": "code",
   "execution_count": 4,
   "id": "d62c9571",
   "metadata": {},
   "outputs": [
    {
     "name": "stdout",
     "output_type": "stream",
     "text": [
      "After adding new student: {101: 'Naresh', 102: 'Vishnu', 103: 'Veerendra Vyas', 104: 'Kesava', 105: 'Veerendra Kumar', 106: 'Jashwanth'}\n"
     ]
    }
   ],
   "source": [
    "students[106] = \"Jashwanth\"\n",
    "print(\"After adding new student:\", students)"
   ]
  },
  {
   "cell_type": "code",
   "execution_count": 5,
   "id": "3252beea",
   "metadata": {},
   "outputs": [
    {
     "name": "stdout",
     "output_type": "stream",
     "text": [
      "After updating a student's name: {101: 'Naresh', 102: 'Vishnu Sai', 103: 'Veerendra Vyas', 104: 'Kesava', 105: 'Veerendra Kumar', 106: 'Jashwanth'}\n"
     ]
    }
   ],
   "source": [
    "students[102] = \"Vishnu Sai\"\n",
    "print(\"After updating a student's name:\", students)"
   ]
  },
  {
   "cell_type": "code",
   "execution_count": 10,
   "id": "72af8ea3",
   "metadata": {},
   "outputs": [
    {
     "name": "stdout",
     "output_type": "stream",
     "text": [
      "Student name: Veerendra Vyas\n"
     ]
    }
   ],
   "source": [
    "student_name = students[103]\n",
    "print(\"Student name:\", student_name)"
   ]
  },
  {
   "cell_type": "code",
   "execution_count": 12,
   "id": "0794f1ed",
   "metadata": {},
   "outputs": [
    {
     "name": "stdout",
     "output_type": "stream",
     "text": [
      "Nested dictionary: {101: {'name': 'Naresh', 'age': 20, 'grade': 'A'}, 102: {'name': 'Vishnu Sai', 'age': 22, 'grade': 'B'}, 103: {'name': 'Veerendra Vyas', 'age': 21, 'grade': 'C'}, 104: {'name': 'Kesava', 'age': 23, 'grade': 'A'}, 105: {'name': 'Veerendra Kumar', 'age': 22, 'grade': 'B'}}\n"
     ]
    }
   ],
   "source": [
    "students_info = {\n",
    "    101: {\"name\": \"Naresh\", \"age\": 20, \"grade\": \"A\"},\n",
    "    102: {\"name\": \"Vishnu Sai\", \"age\": 22, \"grade\": \"B\"},\n",
    "    103: {\"name\": \"Veerendra Vyas\", \"age\": 21, \"grade\": \"C\"},\n",
    "    104: {\"name\": \"Kesava\", \"age\": 23, \"grade\": \"A\"},\n",
    "    105: {\"name\": \"Veerendra Kumar\", \"age\": 22, \"grade\": \"B\"}\n",
    "}\n",
    "print(\"Nested dictionary:\", students_info)"
   ]
  },
  {
   "cell_type": "code",
   "execution_count": 14,
   "id": "91241d9b",
   "metadata": {},
   "outputs": [
    {
     "name": "stdout",
     "output_type": "stream",
     "text": [
      "Student Details: {'name': 'Kesava', 'age': 23, 'grade': 'A'}\n",
      "Name of student: Veerendra Vyas\n"
     ]
    }
   ],
   "source": [
    "student_Details = students_info[104]\n",
    "print(\"Student Details:\", student_Details)\n",
    "\n",
    "student_Name = students_info[103][\"name\"]\n",
    "print(\"Name of student:\", student_Name)\n"
   ]
  },
  {
   "cell_type": "code",
   "execution_count": 15,
   "id": "24ff9eff",
   "metadata": {},
   "outputs": [
    {
     "name": "stdout",
     "output_type": "stream",
     "text": [
      "Student IDs: [101, 102, 103, 104, 105, 106]\n"
     ]
    }
   ],
   "source": [
    "student_ids = students.keys()\n",
    "print(\"Student IDs:\", list(student_ids))"
   ]
  },
  {
   "cell_type": "code",
   "execution_count": 16,
   "id": "9f355d15",
   "metadata": {},
   "outputs": [
    {
     "name": "stdout",
     "output_type": "stream",
     "text": [
      "After deleting student: {101: 'Naresh', 102: 'Vishnu Sai', 103: 'Veerendra Vyas', 104: 'Kesava', 106: 'Jashwanth'}\n"
     ]
    }
   ],
   "source": [
    "del students[105]\n",
    "print(\"After deleting student:\", students)"
   ]
  }
 ],
 "metadata": {
  "kernelspec": {
   "display_name": "Python 3 (ipykernel)",
   "language": "python",
   "name": "python3"
  },
  "language_info": {
   "codemirror_mode": {
    "name": "ipython",
    "version": 3
   },
   "file_extension": ".py",
   "mimetype": "text/x-python",
   "name": "python",
   "nbconvert_exporter": "python",
   "pygments_lexer": "ipython3",
   "version": "3.9.13"
  }
 },
 "nbformat": 4,
 "nbformat_minor": 5
}
