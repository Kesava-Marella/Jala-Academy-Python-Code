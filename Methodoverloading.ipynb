{
 "cells": [
  {
   "cell_type": "code",
   "execution_count": 1,
   "id": "22ce991e-9f6e-4978-a9d7-b9c7ade91740",
   "metadata": {},
   "outputs": [
    {
     "name": "stdout",
     "output_type": "stream",
     "text": [
      "One argument: 16\n",
      "Two arguments: 16, 27\n"
     ]
    }
   ],
   "source": [
    "class Example:\n",
    "    def show(self, a, b=None):  \n",
    "        if b is None:\n",
    "            print(f\"One argument: {a}\")\n",
    "        else:\n",
    "            print(f\"Two arguments: {a}, {b}\")\n",
    "\n",
    "\n",
    "obj = Example()\n",
    "obj.show(16)        \n",
    "obj.show(16, 27)    "
   ]
  },
  {
   "cell_type": "code",
   "execution_count": 2,
   "id": "d24c254c-23e6-4da6-b76e-8d7b9761de20",
   "metadata": {},
   "outputs": [
    {
     "name": "stdout",
     "output_type": "stream",
     "text": [
      "Arguments: (16,)\n",
      "Arguments: (16, 'Hello')\n"
     ]
    }
   ],
   "source": [
    "class Example:\n",
    "    def show(self, *args):\n",
    "        print(f\"Arguments: {args}\")\n",
    "\n",
    "obj = Example()\n",
    "obj.show(16)         \n",
    "obj.show(16, \"Hello\") "
   ]
  },
  {
   "cell_type": "code",
   "execution_count": 3,
   "id": "37b9ab4f-fd66-45e3-8814-117170a236e9",
   "metadata": {},
   "outputs": [
    {
     "name": "stdout",
     "output_type": "stream",
     "text": [
      "Second method: 16, 27\n"
     ]
    }
   ],
   "source": [
    "class Example:\n",
    "    def show(self, a, b):\n",
    "        print(f\"First method: {a}, {b}\")\n",
    "\n",
    "    def show(self, x, y):  \n",
    "        print(f\"Second method: {x}, {y}\")\n",
    "\n",
    "obj = Example()\n",
    "obj.show(16, 27)"
   ]
  }
 ],
 "metadata": {
  "kernelspec": {
   "display_name": "Python 3 (ipykernel)",
   "language": "python",
   "name": "python3"
  },
  "language_info": {
   "codemirror_mode": {
    "name": "ipython",
    "version": 3
   },
   "file_extension": ".py",
   "mimetype": "text/x-python",
   "name": "python",
   "nbconvert_exporter": "python",
   "pygments_lexer": "ipython3",
   "version": "3.9.13"
  }
 },
 "nbformat": 4,
 "nbformat_minor": 5
}
